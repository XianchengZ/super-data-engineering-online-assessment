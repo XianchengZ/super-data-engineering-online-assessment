{
 "cells": [
  {
   "cell_type": "markdown",
   "id": "4d6d9bf2",
   "metadata": {},
   "source": [
    "## Data Platform Team Co-op Case Study - Andrew Zang"
   ]
  },
  {
   "cell_type": "markdown",
   "id": "aceba8f7",
   "metadata": {},
   "source": [
    "Submitted by: Andrew Zang\n",
    "\n",
    "Email: andrewxzang@gmail.com"
   ]
  },
  {
   "cell_type": "code",
   "execution_count": 1,
   "id": "13bd68ba",
   "metadata": {},
   "outputs": [],
   "source": [
    "import pandas as pd\n",
    "import numpy as np"
   ]
  },
  {
   "cell_type": "code",
   "execution_count": 2,
   "id": "d42b7089",
   "metadata": {},
   "outputs": [],
   "source": [
    "data = 'Airline Code;DelayTimes;FlightCodes;To_From\\nAir Canada (!);[21, 40];20015.0;WAterLoo_NEWYork\\n<Air France> (12);[];;Montreal_TORONTO\\n(Porter Airways. );[60, 22, 87];20035.0;CALgary_Ottawa\\n12. Air France;[78, 66];;Ottawa_VANcouvER\\n\"\"\".\\\\.Lufthansa.\\\\.\"\"\";[12, 33];20055.0;london_MONTreal\\n'"
   ]
  },
  {
   "cell_type": "markdown",
   "id": "3db2f9ef",
   "metadata": {},
   "source": [
    "Split the data by \"\\n\" and store the list in columns\n",
    "\n",
    "Note that the last element in `row` will be empty, so we pop from the rows"
   ]
  },
  {
   "cell_type": "code",
   "execution_count": 3,
   "id": "d00cfec9",
   "metadata": {},
   "outputs": [
    {
     "data": {
      "text/plain": [
       "''"
      ]
     },
     "execution_count": 3,
     "metadata": {},
     "output_type": "execute_result"
    }
   ],
   "source": [
    "rows = data.split(\"\\n\")\n",
    "rows.pop()"
   ]
  },
  {
   "cell_type": "markdown",
   "id": "26a72599",
   "metadata": {},
   "source": [
    "split each row of record by \";\" and store the 2D list in columns_data"
   ]
  },
  {
   "cell_type": "code",
   "execution_count": 4,
   "id": "c810d43c",
   "metadata": {},
   "outputs": [],
   "source": [
    "rows_data = []\n",
    "for row in rows:\n",
    "    rows_data.append((row.split(\";\")))"
   ]
  },
  {
   "cell_type": "markdown",
   "id": "5795bc33",
   "metadata": {},
   "source": [
    "first row of columns_data is the column names, and store the other rows in row_data"
   ]
  },
  {
   "cell_type": "code",
   "execution_count": 5,
   "id": "9c57fbf7",
   "metadata": {},
   "outputs": [],
   "source": [
    "columns_name = rows_data[0]\n",
    "rows_data = rows_data[1:]"
   ]
  },
  {
   "cell_type": "markdown",
   "id": "e30def7c",
   "metadata": {},
   "source": [
    "Create a dataframe named table with preprocessed data"
   ]
  },
  {
   "cell_type": "code",
   "execution_count": 6,
   "id": "3ec0a9e3",
   "metadata": {},
   "outputs": [
    {
     "data": {
      "text/html": [
       "<div>\n",
       "<style scoped>\n",
       "    .dataframe tbody tr th:only-of-type {\n",
       "        vertical-align: middle;\n",
       "    }\n",
       "\n",
       "    .dataframe tbody tr th {\n",
       "        vertical-align: top;\n",
       "    }\n",
       "\n",
       "    .dataframe thead th {\n",
       "        text-align: right;\n",
       "    }\n",
       "</style>\n",
       "<table border=\"1\" class=\"dataframe\">\n",
       "  <thead>\n",
       "    <tr style=\"text-align: right;\">\n",
       "      <th></th>\n",
       "      <th>Airline Code</th>\n",
       "      <th>DelayTimes</th>\n",
       "      <th>FlightCodes</th>\n",
       "      <th>To_From</th>\n",
       "    </tr>\n",
       "  </thead>\n",
       "  <tbody>\n",
       "    <tr>\n",
       "      <th>0</th>\n",
       "      <td>Air Canada (!)</td>\n",
       "      <td>[21, 40]</td>\n",
       "      <td>20015.0</td>\n",
       "      <td>WAterLoo_NEWYork</td>\n",
       "    </tr>\n",
       "    <tr>\n",
       "      <th>1</th>\n",
       "      <td>&lt;Air France&gt; (12)</td>\n",
       "      <td>[]</td>\n",
       "      <td></td>\n",
       "      <td>Montreal_TORONTO</td>\n",
       "    </tr>\n",
       "    <tr>\n",
       "      <th>2</th>\n",
       "      <td>(Porter Airways. )</td>\n",
       "      <td>[60, 22, 87]</td>\n",
       "      <td>20035.0</td>\n",
       "      <td>CALgary_Ottawa</td>\n",
       "    </tr>\n",
       "    <tr>\n",
       "      <th>3</th>\n",
       "      <td>12. Air France</td>\n",
       "      <td>[78, 66]</td>\n",
       "      <td></td>\n",
       "      <td>Ottawa_VANcouvER</td>\n",
       "    </tr>\n",
       "    <tr>\n",
       "      <th>4</th>\n",
       "      <td>\"\"\".\\.Lufthansa.\\.\"\"\"</td>\n",
       "      <td>[12, 33]</td>\n",
       "      <td>20055.0</td>\n",
       "      <td>london_MONTreal</td>\n",
       "    </tr>\n",
       "  </tbody>\n",
       "</table>\n",
       "</div>"
      ],
      "text/plain": [
       "            Airline Code    DelayTimes FlightCodes           To_From\n",
       "0         Air Canada (!)      [21, 40]     20015.0  WAterLoo_NEWYork\n",
       "1      <Air France> (12)            []              Montreal_TORONTO\n",
       "2     (Porter Airways. )  [60, 22, 87]     20035.0    CALgary_Ottawa\n",
       "3         12. Air France      [78, 66]              Ottawa_VANcouvER\n",
       "4  \"\"\".\\.Lufthansa.\\.\"\"\"      [12, 33]     20055.0   london_MONTreal"
      ]
     },
     "execution_count": 6,
     "metadata": {},
     "output_type": "execute_result"
    }
   ],
   "source": [
    "table = pd.DataFrame(rows_data, columns=columns_name)\n",
    "table"
   ]
  },
  {
   "cell_type": "markdown",
   "id": "acba53fa",
   "metadata": {},
   "source": [
    "Check the types on the dataframe"
   ]
  },
  {
   "cell_type": "code",
   "execution_count": 7,
   "id": "f3207896",
   "metadata": {},
   "outputs": [
    {
     "data": {
      "text/plain": [
       "Airline Code    object\n",
       "DelayTimes      object\n",
       "FlightCodes     object\n",
       "To_From         object\n",
       "dtype: object"
      ]
     },
     "execution_count": 7,
     "metadata": {},
     "output_type": "execute_result"
    }
   ],
   "source": [
    "table.dtypes"
   ]
  },
  {
   "cell_type": "markdown",
   "id": "b17a8196",
   "metadata": {},
   "source": [
    "Convert the FlightCodes into number from str"
   ]
  },
  {
   "cell_type": "code",
   "execution_count": 8,
   "id": "bc7e0dd7",
   "metadata": {},
   "outputs": [
    {
     "data": {
      "text/html": [
       "<div>\n",
       "<style scoped>\n",
       "    .dataframe tbody tr th:only-of-type {\n",
       "        vertical-align: middle;\n",
       "    }\n",
       "\n",
       "    .dataframe tbody tr th {\n",
       "        vertical-align: top;\n",
       "    }\n",
       "\n",
       "    .dataframe thead th {\n",
       "        text-align: right;\n",
       "    }\n",
       "</style>\n",
       "<table border=\"1\" class=\"dataframe\">\n",
       "  <thead>\n",
       "    <tr style=\"text-align: right;\">\n",
       "      <th></th>\n",
       "      <th>Airline Code</th>\n",
       "      <th>DelayTimes</th>\n",
       "      <th>FlightCodes</th>\n",
       "      <th>To_From</th>\n",
       "    </tr>\n",
       "  </thead>\n",
       "  <tbody>\n",
       "    <tr>\n",
       "      <th>0</th>\n",
       "      <td>Air Canada (!)</td>\n",
       "      <td>[21, 40]</td>\n",
       "      <td>20015.0</td>\n",
       "      <td>WAterLoo_NEWYork</td>\n",
       "    </tr>\n",
       "    <tr>\n",
       "      <th>1</th>\n",
       "      <td>&lt;Air France&gt; (12)</td>\n",
       "      <td>[]</td>\n",
       "      <td>NaN</td>\n",
       "      <td>Montreal_TORONTO</td>\n",
       "    </tr>\n",
       "    <tr>\n",
       "      <th>2</th>\n",
       "      <td>(Porter Airways. )</td>\n",
       "      <td>[60, 22, 87]</td>\n",
       "      <td>20035.0</td>\n",
       "      <td>CALgary_Ottawa</td>\n",
       "    </tr>\n",
       "    <tr>\n",
       "      <th>3</th>\n",
       "      <td>12. Air France</td>\n",
       "      <td>[78, 66]</td>\n",
       "      <td>NaN</td>\n",
       "      <td>Ottawa_VANcouvER</td>\n",
       "    </tr>\n",
       "    <tr>\n",
       "      <th>4</th>\n",
       "      <td>\"\"\".\\.Lufthansa.\\.\"\"\"</td>\n",
       "      <td>[12, 33]</td>\n",
       "      <td>20055.0</td>\n",
       "      <td>london_MONTreal</td>\n",
       "    </tr>\n",
       "  </tbody>\n",
       "</table>\n",
       "</div>"
      ],
      "text/plain": [
       "            Airline Code    DelayTimes  FlightCodes           To_From\n",
       "0         Air Canada (!)      [21, 40]      20015.0  WAterLoo_NEWYork\n",
       "1      <Air France> (12)            []          NaN  Montreal_TORONTO\n",
       "2     (Porter Airways. )  [60, 22, 87]      20035.0    CALgary_Ottawa\n",
       "3         12. Air France      [78, 66]          NaN  Ottawa_VANcouvER\n",
       "4  \"\"\".\\.Lufthansa.\\.\"\"\"      [12, 33]      20055.0   london_MONTreal"
      ]
     },
     "execution_count": 8,
     "metadata": {},
     "output_type": "execute_result"
    }
   ],
   "source": [
    "table['FlightCodes'] = pd.to_numeric(table['FlightCodes'])\n",
    "table"
   ]
  },
  {
   "cell_type": "markdown",
   "id": "91ec6b53",
   "metadata": {},
   "source": [
    "fill all null values in FlightCodes"
   ]
  },
  {
   "cell_type": "code",
   "execution_count": 9,
   "id": "aa33e698",
   "metadata": {},
   "outputs": [
    {
     "data": {
      "text/html": [
       "<div>\n",
       "<style scoped>\n",
       "    .dataframe tbody tr th:only-of-type {\n",
       "        vertical-align: middle;\n",
       "    }\n",
       "\n",
       "    .dataframe tbody tr th {\n",
       "        vertical-align: top;\n",
       "    }\n",
       "\n",
       "    .dataframe thead th {\n",
       "        text-align: right;\n",
       "    }\n",
       "</style>\n",
       "<table border=\"1\" class=\"dataframe\">\n",
       "  <thead>\n",
       "    <tr style=\"text-align: right;\">\n",
       "      <th></th>\n",
       "      <th>Airline Code</th>\n",
       "      <th>DelayTimes</th>\n",
       "      <th>FlightCodes</th>\n",
       "      <th>To_From</th>\n",
       "    </tr>\n",
       "  </thead>\n",
       "  <tbody>\n",
       "    <tr>\n",
       "      <th>0</th>\n",
       "      <td>Air Canada (!)</td>\n",
       "      <td>[21, 40]</td>\n",
       "      <td>20015.0</td>\n",
       "      <td>WAterLoo_NEWYork</td>\n",
       "    </tr>\n",
       "    <tr>\n",
       "      <th>1</th>\n",
       "      <td>&lt;Air France&gt; (12)</td>\n",
       "      <td>[]</td>\n",
       "      <td>20025.0</td>\n",
       "      <td>Montreal_TORONTO</td>\n",
       "    </tr>\n",
       "    <tr>\n",
       "      <th>2</th>\n",
       "      <td>(Porter Airways. )</td>\n",
       "      <td>[60, 22, 87]</td>\n",
       "      <td>20035.0</td>\n",
       "      <td>CALgary_Ottawa</td>\n",
       "    </tr>\n",
       "    <tr>\n",
       "      <th>3</th>\n",
       "      <td>12. Air France</td>\n",
       "      <td>[78, 66]</td>\n",
       "      <td>20045.0</td>\n",
       "      <td>Ottawa_VANcouvER</td>\n",
       "    </tr>\n",
       "    <tr>\n",
       "      <th>4</th>\n",
       "      <td>\"\"\".\\.Lufthansa.\\.\"\"\"</td>\n",
       "      <td>[12, 33]</td>\n",
       "      <td>20055.0</td>\n",
       "      <td>london_MONTreal</td>\n",
       "    </tr>\n",
       "  </tbody>\n",
       "</table>\n",
       "</div>"
      ],
      "text/plain": [
       "            Airline Code    DelayTimes  FlightCodes           To_From\n",
       "0         Air Canada (!)      [21, 40]      20015.0  WAterLoo_NEWYork\n",
       "1      <Air France> (12)            []      20025.0  Montreal_TORONTO\n",
       "2     (Porter Airways. )  [60, 22, 87]      20035.0    CALgary_Ottawa\n",
       "3         12. Air France      [78, 66]      20045.0  Ottawa_VANcouvER\n",
       "4  \"\"\".\\.Lufthansa.\\.\"\"\"      [12, 33]      20055.0   london_MONTreal"
      ]
     },
     "execution_count": 9,
     "metadata": {},
     "output_type": "execute_result"
    }
   ],
   "source": [
    "# backward fill\n",
    "table['FlightCodes'] = table.FlightCodes.bfill() - \\\n",
    "                       table.groupby(table.FlightCodes.notnull().cumsum()).cumcount() * 10\n",
    "# forward fill\n",
    "table['FlightCodes'] = table.FlightCodes.ffill() + \\\n",
    "                       table.groupby(table.FlightCodes.notnull().cumsum()).cumcount() * 10\n",
    "table"
   ]
  },
  {
   "cell_type": "markdown",
   "id": "adf4962c",
   "metadata": {},
   "source": [
    "convert `FlightCodes` to Integer"
   ]
  },
  {
   "cell_type": "code",
   "execution_count": 10,
   "id": "bc4b3380",
   "metadata": {},
   "outputs": [
    {
     "data": {
      "text/html": [
       "<div>\n",
       "<style scoped>\n",
       "    .dataframe tbody tr th:only-of-type {\n",
       "        vertical-align: middle;\n",
       "    }\n",
       "\n",
       "    .dataframe tbody tr th {\n",
       "        vertical-align: top;\n",
       "    }\n",
       "\n",
       "    .dataframe thead th {\n",
       "        text-align: right;\n",
       "    }\n",
       "</style>\n",
       "<table border=\"1\" class=\"dataframe\">\n",
       "  <thead>\n",
       "    <tr style=\"text-align: right;\">\n",
       "      <th></th>\n",
       "      <th>Airline Code</th>\n",
       "      <th>DelayTimes</th>\n",
       "      <th>FlightCodes</th>\n",
       "      <th>To_From</th>\n",
       "    </tr>\n",
       "  </thead>\n",
       "  <tbody>\n",
       "    <tr>\n",
       "      <th>0</th>\n",
       "      <td>Air Canada (!)</td>\n",
       "      <td>[21, 40]</td>\n",
       "      <td>20015</td>\n",
       "      <td>WAterLoo_NEWYork</td>\n",
       "    </tr>\n",
       "    <tr>\n",
       "      <th>1</th>\n",
       "      <td>&lt;Air France&gt; (12)</td>\n",
       "      <td>[]</td>\n",
       "      <td>20025</td>\n",
       "      <td>Montreal_TORONTO</td>\n",
       "    </tr>\n",
       "    <tr>\n",
       "      <th>2</th>\n",
       "      <td>(Porter Airways. )</td>\n",
       "      <td>[60, 22, 87]</td>\n",
       "      <td>20035</td>\n",
       "      <td>CALgary_Ottawa</td>\n",
       "    </tr>\n",
       "    <tr>\n",
       "      <th>3</th>\n",
       "      <td>12. Air France</td>\n",
       "      <td>[78, 66]</td>\n",
       "      <td>20045</td>\n",
       "      <td>Ottawa_VANcouvER</td>\n",
       "    </tr>\n",
       "    <tr>\n",
       "      <th>4</th>\n",
       "      <td>\"\"\".\\.Lufthansa.\\.\"\"\"</td>\n",
       "      <td>[12, 33]</td>\n",
       "      <td>20055</td>\n",
       "      <td>london_MONTreal</td>\n",
       "    </tr>\n",
       "  </tbody>\n",
       "</table>\n",
       "</div>"
      ],
      "text/plain": [
       "            Airline Code    DelayTimes  FlightCodes           To_From\n",
       "0         Air Canada (!)      [21, 40]        20015  WAterLoo_NEWYork\n",
       "1      <Air France> (12)            []        20025  Montreal_TORONTO\n",
       "2     (Porter Airways. )  [60, 22, 87]        20035    CALgary_Ottawa\n",
       "3         12. Air France      [78, 66]        20045  Ottawa_VANcouvER\n",
       "4  \"\"\".\\.Lufthansa.\\.\"\"\"      [12, 33]        20055   london_MONTreal"
      ]
     },
     "execution_count": 10,
     "metadata": {},
     "output_type": "execute_result"
    }
   ],
   "source": [
    "table['FlightCodes'] = table['FlightCodes'].astype(int)\n",
    "table"
   ]
  },
  {
   "cell_type": "markdown",
   "id": "aec221b1",
   "metadata": {},
   "source": [
    "Check types of dataframe"
   ]
  },
  {
   "cell_type": "code",
   "execution_count": 11,
   "id": "2143ac3e",
   "metadata": {},
   "outputs": [
    {
     "data": {
      "text/plain": [
       "Airline Code    object\n",
       "DelayTimes      object\n",
       "FlightCodes      int64\n",
       "To_From         object\n",
       "dtype: object"
      ]
     },
     "execution_count": 11,
     "metadata": {},
     "output_type": "execute_result"
    }
   ],
   "source": [
    "table.dtypes"
   ]
  },
  {
   "cell_type": "markdown",
   "id": "dbdf4aea",
   "metadata": {},
   "source": [
    "Seperate the To_From column into two seperate columns To and From, make all letters uppercase"
   ]
  },
  {
   "cell_type": "code",
   "execution_count": 12,
   "id": "21970cf0",
   "metadata": {},
   "outputs": [
    {
     "data": {
      "text/html": [
       "<div>\n",
       "<style scoped>\n",
       "    .dataframe tbody tr th:only-of-type {\n",
       "        vertical-align: middle;\n",
       "    }\n",
       "\n",
       "    .dataframe tbody tr th {\n",
       "        vertical-align: top;\n",
       "    }\n",
       "\n",
       "    .dataframe thead th {\n",
       "        text-align: right;\n",
       "    }\n",
       "</style>\n",
       "<table border=\"1\" class=\"dataframe\">\n",
       "  <thead>\n",
       "    <tr style=\"text-align: right;\">\n",
       "      <th></th>\n",
       "      <th>Airline Code</th>\n",
       "      <th>DelayTimes</th>\n",
       "      <th>FlightCodes</th>\n",
       "      <th>To_From</th>\n",
       "      <th>To</th>\n",
       "      <th>From</th>\n",
       "    </tr>\n",
       "  </thead>\n",
       "  <tbody>\n",
       "    <tr>\n",
       "      <th>0</th>\n",
       "      <td>Air Canada (!)</td>\n",
       "      <td>[21, 40]</td>\n",
       "      <td>20015</td>\n",
       "      <td>WAterLoo_NEWYork</td>\n",
       "      <td>WATERLOO</td>\n",
       "      <td>NEWYORK</td>\n",
       "    </tr>\n",
       "    <tr>\n",
       "      <th>1</th>\n",
       "      <td>&lt;Air France&gt; (12)</td>\n",
       "      <td>[]</td>\n",
       "      <td>20025</td>\n",
       "      <td>Montreal_TORONTO</td>\n",
       "      <td>MONTREAL</td>\n",
       "      <td>TORONTO</td>\n",
       "    </tr>\n",
       "    <tr>\n",
       "      <th>2</th>\n",
       "      <td>(Porter Airways. )</td>\n",
       "      <td>[60, 22, 87]</td>\n",
       "      <td>20035</td>\n",
       "      <td>CALgary_Ottawa</td>\n",
       "      <td>CALGARY</td>\n",
       "      <td>OTTAWA</td>\n",
       "    </tr>\n",
       "    <tr>\n",
       "      <th>3</th>\n",
       "      <td>12. Air France</td>\n",
       "      <td>[78, 66]</td>\n",
       "      <td>20045</td>\n",
       "      <td>Ottawa_VANcouvER</td>\n",
       "      <td>OTTAWA</td>\n",
       "      <td>VANCOUVER</td>\n",
       "    </tr>\n",
       "    <tr>\n",
       "      <th>4</th>\n",
       "      <td>\"\"\".\\.Lufthansa.\\.\"\"\"</td>\n",
       "      <td>[12, 33]</td>\n",
       "      <td>20055</td>\n",
       "      <td>london_MONTreal</td>\n",
       "      <td>LONDON</td>\n",
       "      <td>MONTREAL</td>\n",
       "    </tr>\n",
       "  </tbody>\n",
       "</table>\n",
       "</div>"
      ],
      "text/plain": [
       "            Airline Code    DelayTimes  FlightCodes           To_From  \\\n",
       "0         Air Canada (!)      [21, 40]        20015  WAterLoo_NEWYork   \n",
       "1      <Air France> (12)            []        20025  Montreal_TORONTO   \n",
       "2     (Porter Airways. )  [60, 22, 87]        20035    CALgary_Ottawa   \n",
       "3         12. Air France      [78, 66]        20045  Ottawa_VANcouvER   \n",
       "4  \"\"\".\\.Lufthansa.\\.\"\"\"      [12, 33]        20055   london_MONTreal   \n",
       "\n",
       "         To       From  \n",
       "0  WATERLOO    NEWYORK  \n",
       "1  MONTREAL    TORONTO  \n",
       "2   CALGARY     OTTAWA  \n",
       "3    OTTAWA  VANCOUVER  \n",
       "4    LONDON   MONTREAL  "
      ]
     },
     "execution_count": 12,
     "metadata": {},
     "output_type": "execute_result"
    }
   ],
   "source": [
    "table[['To', 'From']] = table[\"To_From\"].str.upper().str.split(\"_\", expand=True)\n",
    "table"
   ]
  },
  {
   "cell_type": "markdown",
   "id": "b9202414",
   "metadata": {},
   "source": [
    "Clean the airline_codes to have no punctuation except spaces in the middle"
   ]
  },
  {
   "cell_type": "code",
   "execution_count": 13,
   "id": "6c9dcc72",
   "metadata": {},
   "outputs": [],
   "source": [
    "alphabet_and_space = set('abcdefghijklmnopqrstuvwxyz ABCDEFGHIJKLMNOPQRSTUVWXYZ')\n",
    "\n",
    "def keep_only_alphabet_and_space(string):\n",
    "    \"\"\"\n",
    "        this function only keeps alphabet and space in a string, used for Airline Code col\n",
    "    \"\"\"\n",
    "    filtered_string = ''.join(filter(alphabet_and_space.__contains__, string))\n",
    "    return filtered_string"
   ]
  },
  {
   "cell_type": "code",
   "execution_count": 14,
   "id": "e3668bd7",
   "metadata": {},
   "outputs": [
    {
     "data": {
      "text/html": [
       "<div>\n",
       "<style scoped>\n",
       "    .dataframe tbody tr th:only-of-type {\n",
       "        vertical-align: middle;\n",
       "    }\n",
       "\n",
       "    .dataframe tbody tr th {\n",
       "        vertical-align: top;\n",
       "    }\n",
       "\n",
       "    .dataframe thead th {\n",
       "        text-align: right;\n",
       "    }\n",
       "</style>\n",
       "<table border=\"1\" class=\"dataframe\">\n",
       "  <thead>\n",
       "    <tr style=\"text-align: right;\">\n",
       "      <th></th>\n",
       "      <th>Airline Code</th>\n",
       "      <th>DelayTimes</th>\n",
       "      <th>FlightCodes</th>\n",
       "      <th>To_From</th>\n",
       "      <th>To</th>\n",
       "      <th>From</th>\n",
       "    </tr>\n",
       "  </thead>\n",
       "  <tbody>\n",
       "    <tr>\n",
       "      <th>0</th>\n",
       "      <td>Air Canada</td>\n",
       "      <td>[21, 40]</td>\n",
       "      <td>20015</td>\n",
       "      <td>WAterLoo_NEWYork</td>\n",
       "      <td>WATERLOO</td>\n",
       "      <td>NEWYORK</td>\n",
       "    </tr>\n",
       "    <tr>\n",
       "      <th>1</th>\n",
       "      <td>Air France</td>\n",
       "      <td>[]</td>\n",
       "      <td>20025</td>\n",
       "      <td>Montreal_TORONTO</td>\n",
       "      <td>MONTREAL</td>\n",
       "      <td>TORONTO</td>\n",
       "    </tr>\n",
       "    <tr>\n",
       "      <th>2</th>\n",
       "      <td>Porter Airways</td>\n",
       "      <td>[60, 22, 87]</td>\n",
       "      <td>20035</td>\n",
       "      <td>CALgary_Ottawa</td>\n",
       "      <td>CALGARY</td>\n",
       "      <td>OTTAWA</td>\n",
       "    </tr>\n",
       "    <tr>\n",
       "      <th>3</th>\n",
       "      <td>Air France</td>\n",
       "      <td>[78, 66]</td>\n",
       "      <td>20045</td>\n",
       "      <td>Ottawa_VANcouvER</td>\n",
       "      <td>OTTAWA</td>\n",
       "      <td>VANCOUVER</td>\n",
       "    </tr>\n",
       "    <tr>\n",
       "      <th>4</th>\n",
       "      <td>Lufthansa</td>\n",
       "      <td>[12, 33]</td>\n",
       "      <td>20055</td>\n",
       "      <td>london_MONTreal</td>\n",
       "      <td>LONDON</td>\n",
       "      <td>MONTREAL</td>\n",
       "    </tr>\n",
       "  </tbody>\n",
       "</table>\n",
       "</div>"
      ],
      "text/plain": [
       "      Airline Code    DelayTimes  FlightCodes           To_From        To  \\\n",
       "0      Air Canada       [21, 40]        20015  WAterLoo_NEWYork  WATERLOO   \n",
       "1      Air France             []        20025  Montreal_TORONTO  MONTREAL   \n",
       "2  Porter Airways   [60, 22, 87]        20035    CALgary_Ottawa   CALGARY   \n",
       "3       Air France      [78, 66]        20045  Ottawa_VANcouvER    OTTAWA   \n",
       "4        Lufthansa      [12, 33]        20055   london_MONTreal    LONDON   \n",
       "\n",
       "        From  \n",
       "0    NEWYORK  \n",
       "1    TORONTO  \n",
       "2     OTTAWA  \n",
       "3  VANCOUVER  \n",
       "4   MONTREAL  "
      ]
     },
     "execution_count": 14,
     "metadata": {},
     "output_type": "execute_result"
    }
   ],
   "source": [
    "table[\"Airline Code\"] = table['Airline Code'].apply(keep_only_alphabet_and_space)\n",
    "table"
   ]
  },
  {
   "cell_type": "markdown",
   "id": "bcbaab7c",
   "metadata": {},
   "source": [
    "A new table is generated from the raw data\n",
    "\n"
   ]
  },
  {
   "cell_type": "code",
   "execution_count": 15,
   "id": "d252a839",
   "metadata": {},
   "outputs": [
    {
     "data": {
      "text/html": [
       "<div>\n",
       "<style scoped>\n",
       "    .dataframe tbody tr th:only-of-type {\n",
       "        vertical-align: middle;\n",
       "    }\n",
       "\n",
       "    .dataframe tbody tr th {\n",
       "        vertical-align: top;\n",
       "    }\n",
       "\n",
       "    .dataframe thead th {\n",
       "        text-align: right;\n",
       "    }\n",
       "</style>\n",
       "<table border=\"1\" class=\"dataframe\">\n",
       "  <thead>\n",
       "    <tr style=\"text-align: right;\">\n",
       "      <th></th>\n",
       "      <th>Airline Code</th>\n",
       "      <th>DelayTimes</th>\n",
       "      <th>FlightCodes</th>\n",
       "      <th>To</th>\n",
       "      <th>From</th>\n",
       "    </tr>\n",
       "  </thead>\n",
       "  <tbody>\n",
       "    <tr>\n",
       "      <th>0</th>\n",
       "      <td>Air Canada</td>\n",
       "      <td>[21, 40]</td>\n",
       "      <td>20015</td>\n",
       "      <td>WATERLOO</td>\n",
       "      <td>NEWYORK</td>\n",
       "    </tr>\n",
       "    <tr>\n",
       "      <th>1</th>\n",
       "      <td>Air France</td>\n",
       "      <td>[]</td>\n",
       "      <td>20025</td>\n",
       "      <td>MONTREAL</td>\n",
       "      <td>TORONTO</td>\n",
       "    </tr>\n",
       "    <tr>\n",
       "      <th>2</th>\n",
       "      <td>Porter Airways</td>\n",
       "      <td>[60, 22, 87]</td>\n",
       "      <td>20035</td>\n",
       "      <td>CALGARY</td>\n",
       "      <td>OTTAWA</td>\n",
       "    </tr>\n",
       "    <tr>\n",
       "      <th>3</th>\n",
       "      <td>Air France</td>\n",
       "      <td>[78, 66]</td>\n",
       "      <td>20045</td>\n",
       "      <td>OTTAWA</td>\n",
       "      <td>VANCOUVER</td>\n",
       "    </tr>\n",
       "    <tr>\n",
       "      <th>4</th>\n",
       "      <td>Lufthansa</td>\n",
       "      <td>[12, 33]</td>\n",
       "      <td>20055</td>\n",
       "      <td>LONDON</td>\n",
       "      <td>MONTREAL</td>\n",
       "    </tr>\n",
       "  </tbody>\n",
       "</table>\n",
       "</div>"
      ],
      "text/plain": [
       "      Airline Code    DelayTimes  FlightCodes        To       From\n",
       "0      Air Canada       [21, 40]        20015  WATERLOO    NEWYORK\n",
       "1      Air France             []        20025  MONTREAL    TORONTO\n",
       "2  Porter Airways   [60, 22, 87]        20035   CALGARY     OTTAWA\n",
       "3       Air France      [78, 66]        20045    OTTAWA  VANCOUVER\n",
       "4        Lufthansa      [12, 33]        20055    LONDON   MONTREAL"
      ]
     },
     "execution_count": 15,
     "metadata": {},
     "output_type": "execute_result"
    }
   ],
   "source": [
    "table = table[['Airline Code', 'DelayTimes', 'FlightCodes', 'To', 'From']]\n",
    "table"
   ]
  }
 ],
 "metadata": {
  "kernelspec": {
   "display_name": "Python 3",
   "language": "python",
   "name": "python3"
  },
  "language_info": {
   "codemirror_mode": {
    "name": "ipython",
    "version": 3
   },
   "file_extension": ".py",
   "mimetype": "text/x-python",
   "name": "python",
   "nbconvert_exporter": "python",
   "pygments_lexer": "ipython3",
   "version": "3.8.8"
  }
 },
 "nbformat": 4,
 "nbformat_minor": 5
}
